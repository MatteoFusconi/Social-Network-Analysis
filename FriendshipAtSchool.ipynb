{
 "cells": [
  {
   "cell_type": "markdown",
   "metadata": {},
   "source": [
    "# Friendship at school\n",
    "In this notebook we analize the networks of students belonging to different types of schools, calculating various metrices and tools. Additional information about everything is provided in the projext report.<br>\n",
    "By:\n",
    "- Guglielmo Biagini\n",
    "- Elisa Castagnari\n",
    "- Matteo Fusconi\n",
    "- Luca Trambaiollo\n"
   ]
  },
  {
   "cell_type": "markdown",
   "metadata": {},
   "source": [
    "<a target=\"_blank\" href=\"https://colab.research.google.com/github/MatteoFusconi/Social-Network-Analysis/blob/main/FriendshipAtSchool.ipynb\">\n",
    "  <img src=\"https://colab.research.google.com/assets/colab-badge.svg\" alt=\"Open In Colab\"/>\n",
    "</a>"
   ]
  },
  {
   "cell_type": "markdown",
   "metadata": {},
   "source": [
    " #### setup"
   ]
  },
  {
   "cell_type": "code",
   "execution_count": 28,
   "metadata": {},
   "outputs": [],
   "source": [
    "try:\n",
    "  import google.colab\n",
    "  !git clone https://github.com/MatteoFusconi/Social-Network-Analysis.git\n",
    "  data_folder = './Social-Network-Analysis/data/'\n",
    "except ImportError:\n",
    "  data_folder = './data/'\n",
    "import numpy as np\n",
    "import networkx as nx\n",
    "import matplotlib.pyplot as plt\n",
    "import pandas as pd\n",
    "import os"
   ]
  },
  {
   "cell_type": "markdown",
   "metadata": {},
   "source": [
    "## Primary School"
   ]
  },
  {
   "cell_type": "code",
   "execution_count": 30,
   "metadata": {},
   "outputs": [],
   "source": [
    "input_file = data_folder + 'primary_data.txt'"
   ]
  },
  {
   "cell_type": "markdown",
   "metadata": {},
   "source": [
    "## Middle School"
   ]
  },
  {
   "cell_type": "code",
   "execution_count": null,
   "metadata": {},
   "outputs": [],
   "source": []
  },
  {
   "cell_type": "markdown",
   "metadata": {},
   "source": [
    "## High School"
   ]
  },
  {
   "cell_type": "code",
   "execution_count": 31,
   "metadata": {},
   "outputs": [
    {
     "data": {
      "text/plain": [
       "array([   1,    3,    4,    9,   14,   15,   20,   21,   27,   28,   32,\n",
       "         34,   38,   39,   41,   45,   46,   47,   48,   54,   55,   58,\n",
       "         61,   62,   63,   65,   70,   71,   72,   79,   80,   85,   87,\n",
       "         89,   90,   92,  101,  103,  106,  111,  115,  116,  117,  119,\n",
       "        120,  122,  124,  125,  131,  132,  134,  145,  147,  149,  151,\n",
       "        156,  159,  160,  165,  170,  171,  172,  173,  176,  177,  179,\n",
       "        181,  184,  185,  190,  194,  196,  199,  200,  201,  202,  205,\n",
       "        209,  210,  211,  213,  214,  219,  220,  222,  226,  227,  232,\n",
       "        236,  239,  240,  241,  242,  243,  245,  246,  248,  252,  253,\n",
       "        254,  255,  256,  257,  258,  265,  267,  268,  269,  272,  274,\n",
       "        275,  276,  277,  279,  280,  285,  290,  295,  306,  311,  312,\n",
       "        322,  325,  327,  333,  335,  339,  343,  346,  353,  356,  364,\n",
       "        366,  372,  374,  376,  382,  387,  388,  390,  391,  400,  407,\n",
       "        413,  420,  424,  425,  428,  429,  434,  435,  438,  440,  441,\n",
       "        443,  445,  446,  447,  448,  450,  452,  453,  454,  464,  465,\n",
       "        466,  468,  471,  475,  477,  480,  484,  486,  487,  488,  489,\n",
       "        491,  492,  494,  496,  497,  498,  502,  504,  510,  513,  520,\n",
       "        525,  527,  531,  533,  544,  545,  548,  564,  576,  577,  582,\n",
       "        587,  601,  603,  605,  612,  615,  621,  622,  624,  626,  627,\n",
       "        634,  637,  638,  640,  642,  647,  649,  650,  653,  655,  658,\n",
       "        674,  677,  681,  687,  691,  694,  702,  706,  720,  725,  743,\n",
       "        744,  751,  753,  763,  765,  769,  771,  777,  778,  779,  784,\n",
       "        786,  790,  791,  797,  798,  809,  826,  836,  841,  843,  845,\n",
       "        854,  857,  859,  866,  867,  869,  871,  874,  883,  884,  886,\n",
       "        893,  894,  908,  909,  917,  920,  921,  923,  927,  941,  945,\n",
       "        954,  958,  960,  970,  974,  977,  979,  984, 1067, 1201, 1204,\n",
       "       1212, 1214, 1216, 1218, 1228, 1232, 1237, 1238, 1260, 1295, 1320,\n",
       "       1324, 1332, 1336, 1339, 1342, 1345, 1359, 1366, 1383, 1401, 1412,\n",
       "       1423, 1485, 1512, 1518, 1519, 1543, 1594, 1784, 1805, 1819, 1828,\n",
       "       1870], dtype=int64)"
      ]
     },
     "execution_count": 31,
     "metadata": {},
     "output_type": "execute_result"
    }
   ],
   "source": [
    "input_file = data_folder + 'high_data.csv'\n",
    "contacts = pd.read_csv(input_file, sep= \" \", names= [\"IDcontact\", \"ID1\", \"ID2\", \"Class1\", \"Class2\"])\n",
    "np.sort(pd.unique(contacts[\"ID1\"]))"
   ]
  },
  {
   "cell_type": "markdown",
   "metadata": {},
   "source": [
    "## University"
   ]
  },
  {
   "cell_type": "code",
   "execution_count": null,
   "metadata": {},
   "outputs": [],
   "source": []
  }
 ],
 "metadata": {
  "kernelspec": {
   "display_name": "Python 3",
   "language": "python",
   "name": "python3"
  },
  "language_info": {
   "codemirror_mode": {
    "name": "ipython",
    "version": 3
   },
   "file_extension": ".py",
   "mimetype": "text/x-python",
   "name": "python",
   "nbconvert_exporter": "python",
   "pygments_lexer": "ipython3",
   "version": "3.11.7"
  }
 },
 "nbformat": 4,
 "nbformat_minor": 2
}
